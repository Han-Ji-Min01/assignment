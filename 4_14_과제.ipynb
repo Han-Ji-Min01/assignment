{
  "nbformat": 4,
  "nbformat_minor": 0,
  "metadata": {
    "colab": {
      "name": "4_14_과제",
      "provenance": [],
      "authorship_tag": "ABX9TyNUhwHwFAXOEcQqzDar83Ep",
      "include_colab_link": true
    },
    "kernelspec": {
      "name": "python3",
      "display_name": "Python 3"
    }
  },
  "cells": [
    {
      "cell_type": "markdown",
      "metadata": {
        "id": "view-in-github",
        "colab_type": "text"
      },
      "source": [
        "<a href=\"https://colab.research.google.com/github/youknowds/assignment/blob/master/4_14_%EA%B3%BC%EC%A0%9C.ipynb\" target=\"_parent\"><img src=\"https://colab.research.google.com/assets/colab-badge.svg\" alt=\"Open In Colab\"/></a>"
      ]
    },
    {
      "cell_type": "markdown",
      "metadata": {
        "id": "kN-kC3ETx70a",
        "colab_type": "text"
      },
      "source": [
        "#pop quiz 1"
      ]
    },
    {
      "cell_type": "code",
      "metadata": {
        "id": "W3jiodUOkWqk",
        "colab_type": "code",
        "colab": {
          "base_uri": "https://localhost:8080/",
          "height": 34
        },
        "outputId": "77c1ff54-3619-473a-d4b0-7047f8448f09"
      },
      "source": [
        "print(\"Hello world!!!\")"
      ],
      "execution_count": 1,
      "outputs": [
        {
          "output_type": "stream",
          "text": [
            "Hello world!!!\n"
          ],
          "name": "stdout"
        }
      ]
    },
    {
      "cell_type": "markdown",
      "metadata": {
        "id": "pNZplLhyyEGI",
        "colab_type": "text"
      },
      "source": [
        "#pop quiz 2"
      ]
    },
    {
      "cell_type": "code",
      "metadata": {
        "id": "yBs3qg8-x9a-",
        "colab_type": "code",
        "colab": {
          "base_uri": "https://localhost:8080/",
          "height": 34
        },
        "outputId": "08f801dd-9996-4c82-a794-7b6872335571"
      },
      "source": [
        "type(6/2)"
      ],
      "execution_count": 3,
      "outputs": [
        {
          "output_type": "execute_result",
          "data": {
            "text/plain": [
              "float"
            ]
          },
          "metadata": {
            "tags": []
          },
          "execution_count": 3
        }
      ]
    },
    {
      "cell_type": "code",
      "metadata": {
        "id": "j7ltj_YzyORY",
        "colab_type": "code",
        "colab": {
          "base_uri": "https://localhost:8080/",
          "height": 34
        },
        "outputId": "68c62057-eb7b-42db-a3fb-e115b0c307c6"
      },
      "source": [
        "type(6//2)"
      ],
      "execution_count": 4,
      "outputs": [
        {
          "output_type": "execute_result",
          "data": {
            "text/plain": [
              "int"
            ]
          },
          "metadata": {
            "tags": []
          },
          "execution_count": 4
        }
      ]
    },
    {
      "cell_type": "markdown",
      "metadata": {
        "id": "xQkei1P1yUSu",
        "colab_type": "text"
      },
      "source": [
        "#pop quiz 3"
      ]
    },
    {
      "cell_type": "code",
      "metadata": {
        "id": "MVtGojenyQbk",
        "colab_type": "code",
        "colab": {
          "base_uri": "https://localhost:8080/",
          "height": 34
        },
        "outputId": "904ae89c-4390-44ed-a08c-f03af2c84bd9"
      },
      "source": [
        "Total_Min=1300\n",
        "Total_Hour=Total_Min/60\n",
        "\n",
        "print(\"Total_Time_Representiing = Hour :\", int(Total_Hour), \"Min\", int(Total_Min%60))"
      ],
      "execution_count": 7,
      "outputs": [
        {
          "output_type": "stream",
          "text": [
            "Total_Time_Representiing = Hour : 21 Min 40\n"
          ],
          "name": "stdout"
        }
      ]
    }
  ]
}
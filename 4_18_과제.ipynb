{
  "nbformat": 4,
  "nbformat_minor": 0,
  "metadata": {
    "colab": {
      "name": "4_18_과제.ipynb",
      "provenance": [],
      "authorship_tag": "ABX9TyMM7B+dyKdTRyjMqf3++h1F",
      "include_colab_link": true
    },
    "kernelspec": {
      "name": "python3",
      "display_name": "Python 3"
    }
  },
  "cells": [
    {
      "cell_type": "markdown",
      "metadata": {
        "id": "view-in-github",
        "colab_type": "text"
      },
      "source": [
        "<a href=\"https://colab.research.google.com/github/youknowds/assignment/blob/python-basic/4_18_%EA%B3%BC%EC%A0%9C.ipynb\" target=\"_parent\"><img src=\"https://colab.research.google.com/assets/colab-badge.svg\" alt=\"Open In Colab\"/></a>"
      ]
    },
    {
      "cell_type": "markdown",
      "metadata": {
        "id": "pL4cEkCbZaKz",
        "colab_type": "text"
      },
      "source": [
        "#assignment 1"
      ]
    },
    {
      "cell_type": "code",
      "metadata": {
        "id": "p66Kg_32e3ys",
        "colab_type": "code",
        "colab": {}
      },
      "source": [
        "a_list=[1, 'hello', [1,2,3],True ]"
      ],
      "execution_count": 0,
      "outputs": []
    },
    {
      "cell_type": "code",
      "metadata": {
        "id": "ogq8psGCZbZT",
        "colab_type": "code",
        "colab": {
          "base_uri": "https://localhost:8080/",
          "height": 34
        },
        "outputId": "5915c41c-d3e7-4750-839f-cc7b4757573a"
      },
      "source": [
        "a_list[0]"
      ],
      "execution_count": 4,
      "outputs": [
        {
          "output_type": "execute_result",
          "data": {
            "text/plain": [
              "1"
            ]
          },
          "metadata": {
            "tags": []
          },
          "execution_count": 4
        }
      ]
    },
    {
      "cell_type": "code",
      "metadata": {
        "id": "teJ0h-iBZyVG",
        "colab_type": "code",
        "colab": {
          "base_uri": "https://localhost:8080/",
          "height": 34
        },
        "outputId": "b562ade8-85b9-45d2-d8c6-c68985f7ba31"
      },
      "source": [
        "print(a_list[1],a_list[2],a_list[3])"
      ],
      "execution_count": 5,
      "outputs": [
        {
          "output_type": "stream",
          "text": [
            "hello [1, 2, 3] True\n"
          ],
          "name": "stdout"
        }
      ]
    },
    {
      "cell_type": "code",
      "metadata": {
        "id": "rE72AVjvcMdv",
        "colab_type": "code",
        "colab": {
          "base_uri": "https://localhost:8080/",
          "height": 34
        },
        "outputId": "49435ad9-923d-450d-8ca7-615986fad510"
      },
      "source": [
        "A=[1,'a']\n",
        "B=[2,1,'b']\n",
        "A+B"
      ],
      "execution_count": 6,
      "outputs": [
        {
          "output_type": "execute_result",
          "data": {
            "text/plain": [
              "[1, 'a', 2, 1, 'b']"
            ]
          },
          "metadata": {
            "tags": []
          },
          "execution_count": 6
        }
      ]
    },
    {
      "cell_type": "markdown",
      "metadata": {
        "id": "NSapwuyVc1lY",
        "colab_type": "text"
      },
      "source": [
        "#assignment 2"
      ]
    },
    {
      "cell_type": "code",
      "metadata": {
        "id": "kveQ2LWWccRE",
        "colab_type": "code",
        "colab": {}
      },
      "source": [
        "soundtrack_dic = {\"The Bodyguard\":\"1992\", \"Saturday Night Fever\":\"1977\"}"
      ],
      "execution_count": 0,
      "outputs": []
    },
    {
      "cell_type": "code",
      "metadata": {
        "id": "XHCN5QDHc0Mh",
        "colab_type": "code",
        "colab": {
          "base_uri": "https://localhost:8080/",
          "height": 34
        },
        "outputId": "085b14cc-30e3-4711-fc5f-ebd89a35fe12"
      },
      "source": [
        "soundtrack_dic.keys()"
      ],
      "execution_count": 9,
      "outputs": [
        {
          "output_type": "execute_result",
          "data": {
            "text/plain": [
              "dict_keys(['The Bodyguard', 'Saturday Night Fever'])"
            ]
          },
          "metadata": {
            "tags": []
          },
          "execution_count": 9
        }
      ]
    },
    {
      "cell_type": "code",
      "metadata": {
        "id": "o5R_2Fdrfmmh",
        "colab_type": "code",
        "colab": {
          "base_uri": "https://localhost:8080/",
          "height": 34
        },
        "outputId": "e8276de2-1e4c-4627-c0f5-76a9284933b8"
      },
      "source": [
        "soundtrack_dic.values()"
      ],
      "execution_count": 10,
      "outputs": [
        {
          "output_type": "execute_result",
          "data": {
            "text/plain": [
              "dict_values(['1992', '1977'])"
            ]
          },
          "metadata": {
            "tags": []
          },
          "execution_count": 10
        }
      ]
    },
    {
      "cell_type": "markdown",
      "metadata": {
        "id": "FLsXYfTxgCK_",
        "colab_type": "text"
      },
      "source": [
        "#assignment 3"
      ]
    },
    {
      "cell_type": "code",
      "metadata": {
        "id": "MC4iwJJqfo0d",
        "colab_type": "code",
        "colab": {
          "base_uri": "https://localhost:8080/",
          "height": 34
        },
        "outputId": "104b65ba-918b-467f-a950-0f33337eaf40"
      },
      "source": [
        "set_ex=set(['rap','house','electronic music', 'rap'])\n",
        "set_ex"
      ],
      "execution_count": 12,
      "outputs": [
        {
          "output_type": "execute_result",
          "data": {
            "text/plain": [
              "{'electronic music', 'house', 'rap'}"
            ]
          },
          "metadata": {
            "tags": []
          },
          "execution_count": 12
        }
      ]
    },
    {
      "cell_type": "code",
      "metadata": {
        "id": "DVhL4Ukske3x",
        "colab_type": "code",
        "colab": {
          "base_uri": "https://localhost:8080/",
          "height": 34
        },
        "outputId": "3767857d-ee91-4af8-d8c7-2dcd2d830ab3"
      },
      "source": [
        "A=[1,2,2,1]\n",
        "B=set([1,2,2,1])\n",
        "print(sum(A),sum(B))"
      ],
      "execution_count": 13,
      "outputs": [
        {
          "output_type": "stream",
          "text": [
            "6 3\n"
          ],
          "name": "stdout"
        }
      ]
    },
    {
      "cell_type": "code",
      "metadata": {
        "id": "i-mCTbrNlAgO",
        "colab_type": "code",
        "colab": {
          "base_uri": "https://localhost:8080/",
          "height": 34
        },
        "outputId": "8867522a-5b84-45d4-fb65-503c6c3b6db8"
      },
      "source": [
        "album_set1 = set([\"Thriller\", 'AC/DC', 'Back in Black'])\n",
        "album_set2 = set([ \"AC/DC\", \"Back in Black\", \"The Dark Side of the Moon\"])\n",
        "album_set3= album_set1.union(album_set2)\n",
        "album_set3"
      ],
      "execution_count": 15,
      "outputs": [
        {
          "output_type": "execute_result",
          "data": {
            "text/plain": [
              "{'AC/DC', 'Back in Black', 'The Dark Side of the Moon', 'Thriller'}"
            ]
          },
          "metadata": {
            "tags": []
          },
          "execution_count": 15
        }
      ]
    },
    {
      "cell_type": "code",
      "metadata": {
        "id": "uD4yAuaBlTC_",
        "colab_type": "code",
        "colab": {
          "base_uri": "https://localhost:8080/",
          "height": 34
        },
        "outputId": "46881b09-6e20-4d13-9b2d-f7d610940daa"
      },
      "source": [
        "album_set1.issubset(album_set3)"
      ],
      "execution_count": 16,
      "outputs": [
        {
          "output_type": "execute_result",
          "data": {
            "text/plain": [
              "True"
            ]
          },
          "metadata": {
            "tags": []
          },
          "execution_count": 16
        }
      ]
    },
    {
      "cell_type": "markdown",
      "metadata": {
        "id": "KJ0U3QOalrJW",
        "colab_type": "text"
      },
      "source": [
        "#assignment 4"
      ]
    },
    {
      "cell_type": "code",
      "metadata": {
        "id": "zCSCwv4aldAG",
        "colab_type": "code",
        "colab": {
          "base_uri": "https://localhost:8080/",
          "height": 34
        },
        "outputId": "69837fc8-7d28-4e0f-c7d7-1921f7946d7c"
      },
      "source": [
        "Dict ={\"Artist\": \"Michael\", \"Genre\": \"R&B\", \"Sales\": 10000}\n",
        "\n",
        "def genre(A):\n",
        "  if(A==Dict['Artist']):\n",
        "    print(Dict['Genre'])\n",
        "  else:\n",
        "    print(\"There is no artist by that name\")\n",
        "\n",
        "genre('Michael')"
      ],
      "execution_count": 18,
      "outputs": [
        {
          "output_type": "stream",
          "text": [
            "R&B\n"
          ],
          "name": "stdout"
        }
      ]
    },
    {
      "cell_type": "code",
      "metadata": {
        "id": "wfAZyHtvmGF0",
        "colab_type": "code",
        "colab": {
          "base_uri": "https://localhost:8080/",
          "height": 52
        },
        "outputId": "728f4342-2338-42c5-a6cc-f4ec7832687c"
      },
      "source": [
        "temp_C = float(input('Enter the temperature in Celsius ' )) \n",
        "\n",
        "def change_temp(A):\n",
        "  if(A<-273):\n",
        "    print(\"That's impossible\")\n",
        "  else:\n",
        "    temp_F= 1.8*A+32\n",
        "    print('Celsius temperature is', A ,'and Fahrenheit temperature is', temp_F)\n",
        "  \n",
        "change_temp(temp_C)"
      ],
      "execution_count": 24,
      "outputs": [
        {
          "output_type": "stream",
          "text": [
            "Enter the temperature in Celsius 32.5\n",
            "Celsius temperature is 32.5 and Fahrenheit temperature is 90.5\n"
          ],
          "name": "stdout"
        }
      ]
    },
    {
      "cell_type": "code",
      "metadata": {
        "id": "_dN4fEUhpaPe",
        "colab_type": "code",
        "colab": {
          "base_uri": "https://localhost:8080/",
          "height": 34
        },
        "outputId": "b51d5ad4-c526-49b7-e5f2-b8c8829e6f55"
      },
      "source": [
        "import random\n",
        "temp_C = random.randrange(-50000,50000)\n",
        "\n",
        "def change_temp(A):\n",
        "  if(A<-273):\n",
        "    print(A,\"C is impossible\")\n",
        "  else:\n",
        "    temp_F= 1.8*A+32\n",
        "    print('Celsius temperature is', A ,'and Fahrenheit temperature is', temp_F)\n",
        "  \n",
        "change_temp(temp_C)"
      ],
      "execution_count": 25,
      "outputs": [
        {
          "output_type": "stream",
          "text": [
            "-772 C is impossible\n"
          ],
          "name": "stdout"
        }
      ]
    },
    {
      "cell_type": "code",
      "metadata": {
        "id": "p7ctk2rXr0gc",
        "colab_type": "code",
        "colab": {
          "base_uri": "https://localhost:8080/",
          "height": 34
        },
        "outputId": "f9aefce0-0907-43f1-e41f-94a65beb4ce6"
      },
      "source": [
        "L=[1, 2, 3, 5, 9, 31, 28, 91]\n",
        "\n",
        "def number_divide(L):\n",
        "  count_o=0\n",
        "  count_e=0\n",
        "  for i in range(0,len(L)):\n",
        "    if(L[i]%2==0):\n",
        "      count_e+=1\n",
        "    else:\n",
        "      count_o+=1\n",
        "  print(count_o,\"odd number and\",count_e,\"even number\")\n",
        "\n",
        "number_divide(L) "
      ],
      "execution_count": 28,
      "outputs": [
        {
          "output_type": "stream",
          "text": [
            "6 odd number and 2 even number\n"
          ],
          "name": "stdout"
        }
      ]
    },
    {
      "cell_type": "code",
      "metadata": {
        "id": "2TSluczEthg4",
        "colab_type": "code",
        "colab": {
          "base_uri": "https://localhost:8080/",
          "height": 52
        },
        "outputId": "33ad7ce5-ca5f-4450-edc5-127c3c5b2648"
      },
      "source": [
        "numlist=list(range(1000))\n",
        "L=random.sample(numlist,10)\n",
        "print(L)\n",
        "\n",
        "def prime(L): \n",
        "  count_P=0\n",
        "  for i in range(0,len(L)):\n",
        "    num=L[i]\n",
        "    if(num==1 or num==2):\n",
        "      count_P+=1\n",
        "    else:\n",
        "      for j in range(2,num):\n",
        "        if(num%j==0):\n",
        "          break    \n",
        "        if(j==num-1):\n",
        "          count_P+=1     \n",
        "  print(\"The number of prime numbers is\",count_P)  \n",
        "\n",
        "prime(L) \n"
      ],
      "execution_count": 55,
      "outputs": [
        {
          "output_type": "stream",
          "text": [
            "[29, 8, 785, 757, 463, 781, 888, 643, 326, 21]\n",
            "The number of prime numbers is 4\n"
          ],
          "name": "stdout"
        }
      ]
    },
    {
      "cell_type": "code",
      "metadata": {
        "id": "yidB5MK4ul0V",
        "colab_type": "code",
        "colab": {
          "base_uri": "https://localhost:8080/",
          "height": 52
        },
        "outputId": "4f744fa7-b356-419d-9ea8-c9109b0e04c5"
      },
      "source": [
        "L=[1,2,3,4,5,6,7]\n",
        "print(L)\n",
        "\n",
        "def prime(L): \n",
        "  count_P=0\n",
        "  for i in range(0,len(L)):\n",
        "    num=L[i]\n",
        "    if(num==1 or num==2):\n",
        "      count_P+=1\n",
        "    else:\n",
        "      for j in range(2,num):\n",
        "        if(num%j==0):\n",
        "          break    \n",
        "        if(j==num-1):\n",
        "          count_P+=1     \n",
        "  print(count_P)  \n",
        "\n",
        "prime(L) \n"
      ],
      "execution_count": 53,
      "outputs": [
        {
          "output_type": "stream",
          "text": [
            "[1, 2, 3, 4, 5, 6, 7]\n",
            "5\n"
          ],
          "name": "stdout"
        }
      ]
    }
  ]
}
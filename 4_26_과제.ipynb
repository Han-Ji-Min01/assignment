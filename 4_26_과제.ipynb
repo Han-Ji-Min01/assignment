{
  "nbformat": 4,
  "nbformat_minor": 0,
  "metadata": {
    "colab": {
      "name": "4_26_과제",
      "provenance": [],
      "authorship_tag": "ABX9TyPadPKgTpYEUICJZVQNftOH",
      "include_colab_link": true
    },
    "kernelspec": {
      "name": "python3",
      "display_name": "Python 3"
    }
  },
  "cells": [
    {
      "cell_type": "markdown",
      "metadata": {
        "id": "view-in-github",
        "colab_type": "text"
      },
      "source": [
        "<a href=\"https://colab.research.google.com/github/youknowds/assignment/blob/python-basic/4_26_%EA%B3%BC%EC%A0%9C.ipynb\" target=\"_parent\"><img src=\"https://colab.research.google.com/assets/colab-badge.svg\" alt=\"Open In Colab\"/></a>"
      ]
    },
    {
      "cell_type": "markdown",
      "metadata": {
        "id": "c670CqNsKcoI",
        "colab_type": "text"
      },
      "source": [
        "#Assignment 1"
      ]
    },
    {
      "cell_type": "code",
      "metadata": {
        "id": "lI_mc3ekNY96",
        "colab_type": "code",
        "colab": {}
      },
      "source": [
        "import matplotlib.pyplot as plt\n",
        "%matplotlib inline "
      ],
      "execution_count": 0,
      "outputs": []
    },
    {
      "cell_type": "code",
      "metadata": {
        "id": "kQCL7j2KJdMr",
        "colab_type": "code",
        "colab": {}
      },
      "source": [
        "class Rectangle(object):\n",
        "\n",
        "  def __init__(self, width, height, color):\n",
        "    self.width = width\n",
        "    self.height = height\n",
        "    self.color = color \n",
        "\n",
        "  def change_width(self, width_1):\n",
        "    self.width=width_1\n",
        "    return(self.width)\n",
        "\n",
        "  def change_height(self, height_1):\n",
        "    self.height=height_1\n",
        "    return(self.height)\n",
        "  \n",
        "  def change_color(self, color_1):\n",
        "    self.color=color_1\n",
        "    return(self.color)\n",
        "\n",
        "  def drawRectangle(self):\n",
        "    plt.gca().add_patch(plt.Rectangle((0,0), self.width, self.height, fc = self.color))\n",
        "    plt.axis('scaled')\n",
        "    plt.show()"
      ],
      "execution_count": 0,
      "outputs": []
    },
    {
      "cell_type": "code",
      "metadata": {
        "id": "OUbL7OufNCe1",
        "colab_type": "code",
        "colab": {}
      },
      "source": [
        "Exrectangle=Rectangle(2,10,'blue')"
      ],
      "execution_count": 0,
      "outputs": []
    },
    {
      "cell_type": "code",
      "metadata": {
        "id": "uZh-C_K6NLB-",
        "colab_type": "code",
        "colab": {
          "base_uri": "https://localhost:8080/",
          "height": 265
        },
        "outputId": "dc83a75d-4726-4bae-f945-42ffb2051baa"
      },
      "source": [
        "Exrectangle.change_width(4)\n",
        "Exrectangle.drawRectangle()"
      ],
      "execution_count": 7,
      "outputs": [
        {
          "output_type": "display_data",
          "data": {
            "image/png": "[encoded data removed]",
            "text/plain": [
              "<Figure size 432x288 with 1 Axes>"
            ]
          },
          "metadata": {
            "tags": [],
            "needs_background": "light"
          }
        }
      ]
    },
    {
      "cell_type": "markdown",
      "metadata": {
        "id": "Gff8UBNDNdan",
        "colab_type": "text"
      },
      "source": [
        "#assignment2"
      ]
    },
    {
      "cell_type": "code",
      "metadata": {
        "id": "HvDz_jmiNfLU",
        "colab_type": "code",
        "colab": {
          "base_uri": "https://localhost:8080/",
          "height": 125
        },
        "outputId": "ff905268-3790-472a-afe1-6fc1aba1ec34"
      },
      "source": [
        "from google.colab import drive\n",
        "drive.mount('/content/gdrive')"
      ],
      "execution_count": 9,
      "outputs": [
        {
          "output_type": "stream",
          "text": [
            "Go to this URL in a browser: https://accounts.google.com/o/oauth2/auth?client_id=947318989803-6bn6qk8qdgf4n4g3pfee6491hc0brc4i.apps.googleusercontent.com&redirect_uri=urn%3aietf%3awg%3aoauth%3a2.0%3aoob&response_type=code&scope=email%20https%3a%2f%2fwww.googleapis.com%2fauth%2fdocs.test%20https%3a%2f%2fwww.googleapis.com%2fauth%2fdrive%20https%3a%2f%2fwww.googleapis.com%2fauth%2fdrive.photos.readonly%20https%3a%2f%2fwww.googleapis.com%2fauth%2fpeopleapi.readonly\n",
            "\n",
            "Enter your authorization code:\n",
            "··········\n",
            "Mounted at /content/gdrive\n"
          ],
          "name": "stdout"
        }
      ]
    },
    {
      "cell_type": "code",
      "metadata": {
        "id": "3Rn4JeRhOKq4",
        "colab_type": "code",
        "colab": {}
      },
      "source": [
        "circle_txt= open('/content/gdrive/My Drive/circle_txt.txt', 'w')\n",
        "circle_txt.write(\"There is circle \\nThe radius of the circle is 3. \\nThe color of the circle is cyan\")\n",
        "circle_txt.close()"
      ],
      "execution_count": 0,
      "outputs": []
    },
    {
      "cell_type": "code",
      "metadata": {
        "id": "DP5oxSSNTxwJ",
        "colab_type": "code",
        "colab": {}
      },
      "source": [
        "rectangle_txt=open('/content/gdrive/My Drive/rectangle_txt.txt','w')\n",
        "rectangle_txt.write(\"There is rectangle \\nThe height of the rectangle is 8.\\nThe width of the rectangle is 4.\\nThe color of the rectangle is orange\")\n",
        "rectangle_txt.close()"
      ],
      "execution_count": 0,
      "outputs": []
    },
    {
      "cell_type": "code",
      "metadata": {
        "id": "YK7djyv4WrNC",
        "colab_type": "code",
        "colab": {
          "base_uri": "https://localhost:8080/",
          "height": 282
        },
        "outputId": "de7c1d06-18c9-4697-ad6e-3789df088b4b"
      },
      "source": [
        "with open('/content/gdrive/My Drive/circle_txt.txt',\"r\") as file1:\n",
        "  line1=file1.readlines()\n",
        "  print(line1)\n",
        "\n",
        "a=int(line1[1][-4])\n",
        "b=line1[2][27:31]\n",
        "\n",
        "class Circle(object): \n",
        " \n",
        "  def __init__(self, radius, color):\n",
        "    self.radius = radius\n",
        "    self.color = color \n",
        "\n",
        "  def drawCircle(self): \n",
        "    plt.gca().add_patch(plt.Circle((0,0), radius = self.radius, fc = self.color)) \n",
        "    plt.axis('scaled') \n",
        "    plt.show() \n",
        "\n",
        "circle_example=Circle(a,b)\n",
        "circle_example.drawCircle()"
      ],
      "execution_count": 32,
      "outputs": [
        {
          "output_type": "stream",
          "text": [
            "['There is circle \\n', 'The radius of the circle is 3. \\n', 'The color of the circle is cyan']\n"
          ],
          "name": "stdout"
        },
        {
          "output_type": "display_data",
          "data": {
            "image/png": "[encoded data removed]",
            "text/plain": [
              "<Figure size 432x288 with 1 Axes>"
            ]
          },
          "metadata": {
            "tags": [],
            "needs_background": "light"
          }
        }
      ]
    },
    {
      "cell_type": "code",
      "metadata": {
        "id": "ggmf1sQ4db6K",
        "colab_type": "code",
        "colab": {
          "base_uri": "https://localhost:8080/",
          "height": 282
        },
        "outputId": "c9ef1f15-48f9-4543-9a53-7214c34eb300"
      },
      "source": [
        "with open('/content/gdrive/My Drive/rectangle_txt.txt','r') as file2:\n",
        "  line2=file2.readlines()\n",
        "  print(line2)\n",
        "\n",
        "a=int(line2[1][-3])\n",
        "b=int(line2[2][-3])\n",
        "c=line2[3][30:36]\n",
        "\n",
        "class Rectangle(object):\n",
        "\n",
        "  def __init__(self, width, height, color):\n",
        "    self.width = width\n",
        "    self.height = height\n",
        "    self.color = color \n",
        "  \n",
        "  def drawRectangle(self):\n",
        "    plt.gca().add_patch(plt.Rectangle((0,0), self.width, self.height, fc = self.color))\n",
        "    plt.axis('scaled')\n",
        "    plt.show()\n",
        "\n",
        "\n",
        "rectangle_example=Rectangle(b,a,c)\n",
        "rectangle_example.drawRectangle()    "
      ],
      "execution_count": 48,
      "outputs": [
        {
          "output_type": "stream",
          "text": [
            "['There is rectangle \\n', 'The height of the rectangle is 8.\\n', 'The width of the rectangle is 4.\\n', 'The color of the rectangle is orange']\n"
          ],
          "name": "stdout"
        },
        {
          "output_type": "display_data",
          "data": {
            "image/png": "[encoded data removed]",
            "text/plain": [
              "<Figure size 432x288 with 1 Axes>"
            ]
          },
          "metadata": {
            "tags": [],
            "needs_background": "light"
          }
        }
      ]
    },
    {
      "cell_type": "markdown",
      "metadata": {
        "id": "5sq-2hJWeg1N",
        "colab_type": "text"
      },
      "source": [
        "#assignment 3"
      ]
    },
    {
      "cell_type": "code",
      "metadata": {
        "id": "TMB1HXiCdqBG",
        "colab_type": "code",
        "colab": {
          "base_uri": "https://localhost:8080/",
          "height": 548
        },
        "outputId": "b9e5ec9a-529a-4140-f2f5-313c258c5c88"
      },
      "source": [
        "import math\n",
        "\n",
        "class Circle(object): \n",
        " \n",
        "  def __init__(self, radius, color):\n",
        "    self.radius = radius\n",
        "    self.color = color \n",
        "\n",
        "  def drawCircle(self): \n",
        "    plt.gca().add_patch(plt.Circle((0,0), radius = self.radius, fc = self.color)) \n",
        "    plt.axis('scaled') \n",
        "    plt.show() \n",
        "\n",
        "  def sizeCircle(self):\n",
        "    size=0.5*math.pi*self.radius**2\n",
        "    print(\"The size of this circle is\",size)\n",
        "  \n",
        "class Rectangle(object):\n",
        "\n",
        "  def __init__(self, width, height, color):\n",
        "    self.width = width\n",
        "    self.height = height\n",
        "    self.color = color \n",
        "  \n",
        "  def drawRectangle(self):\n",
        "    plt.gca().add_patch(plt.Rectangle((0,0), self.width, self.height, fc = self.color))\n",
        "    plt.axis('scaled')\n",
        "    plt.show()\n",
        "\n",
        "  def sizeRectangle(self):\n",
        "    size=self.width*self.height\n",
        "    print(\"The size of this rectangle is\",size)\n",
        "\n",
        "circle=Circle(7,'green')\n",
        "circle.drawCircle()\n",
        "circle.sizeCircle()\n",
        "\n",
        "rectangle=Rectangle(3,7,'purple')\n",
        "rectangle.drawRectangle()\n",
        "rectangle.sizeRectangle() \n"
      ],
      "execution_count": 52,
      "outputs": [
        {
          "output_type": "display_data",
          "data": {
            "image/png": "[encoded data removed]",
            "text/plain": [
              "<Figure size 432x288 with 1 Axes>"
            ]
          },
          "metadata": {
            "tags": [],
            "needs_background": "light"
          }
        },
        {
          "output_type": "stream",
          "text": [
            "The size of this circle is 76.96902001294993\n"
          ],
          "name": "stdout"
        },
        {
          "output_type": "display_data",
          "data": {
            "image/png": "[encoded data removed]",
            "text/plain": [
              "<Figure size 432x288 with 1 Axes>"
            ]
          },
          "metadata": {
            "tags": [],
            "needs_background": "light"
          }
        },
        {
          "output_type": "stream",
          "text": [
            "The size of this rectangle is 21\n"
          ],
          "name": "stdout"
        }
      ]
    }
  ]
}